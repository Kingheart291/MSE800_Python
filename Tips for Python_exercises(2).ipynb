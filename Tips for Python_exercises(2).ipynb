{
 "cells": [
  {
   "cell_type": "code",
   "execution_count": null,
   "id": "a663efff-02f1-4c45-89e8-5c95d97f2ced",
   "metadata": {},
   "outputs": [],
   "source": []
  },
  {
   "cell_type": "code",
   "id": "07bc372e-0bba-42aa-b92f-1821f664976e",
   "metadata": {
    "ExecuteTime": {
     "end_time": "2025-01-20T22:54:58.779821Z",
     "start_time": "2025-01-20T22:54:58.760238Z"
    }
   },
   "source": [
    "# extract information with age greater than 25 from the following list of dictionaries\n",
    "data = [{\"name\": \"Alice\", \"age\": 28}, {\"name\": \"Bob\", \"age\": 24}, {\"name\": \"Charlie\", \"age\": 30}]\n",
    "extracted_data = [person for person in data if person[\"age\"] < 25]\n",
    "print(extracted_data)\n",
    "A = [B for B in data if B[\"age\"] < 25]\n",
    "print(\"A:\", A)"
   ],
   "outputs": [
    {
     "name": "stdout",
     "output_type": "stream",
     "text": [
      "[{'name': 'Bob', 'age': 24}]\n",
      "A: [{'name': 'Bob', 'age': 24}]\n"
     ]
    }
   ],
   "execution_count": 28
  },
  {
   "cell_type": "code",
   "id": "4d7663b4-e991-43a8-9f44-a37c1ad87b50",
   "metadata": {
    "ExecuteTime": {
     "end_time": "2025-01-20T02:17:09.490452Z",
     "start_time": "2025-01-20T02:17:09.445779Z"
    }
   },
   "source": [
    "# use list comprehension to flatten the matrix\n",
    "matrix = [[1, 2, 3], [4, 5, 6], [7, 8, 9]]\n",
    "flattened_matrix = [num for row in matrix for num in row]\n",
    "print(flattened_matrix)"
   ],
   "outputs": [
    {
     "name": "stdout",
     "output_type": "stream",
     "text": [
      "[1, 2, 3, 4, 5, 6, 7, 8, 9]\n"
     ]
    }
   ],
   "execution_count": 7
  },
  {
   "cell_type": "code",
   "execution_count": null,
   "id": "40ab8c19-ad6c-4830-90aa-d30da64e2060",
   "metadata": {},
   "outputs": [],
   "source": []
  },
  {
   "cell_type": "code",
   "id": "163bdfe0-c2c9-400c-b221-432f902aea57",
   "metadata": {
    "ExecuteTime": {
     "end_time": "2025-01-20T02:36:38.574846Z",
     "start_time": "2025-01-20T02:36:38.534383Z"
    }
   },
   "source": [
    "# use enumerate() for looping to add 5 extra point to each grade in the list, the 5th one add 10 \n",
    "grades = [88, 92, 78, 65, 50, 94]\n",
    "for i, grade in enumerate(grades):\n",
    "    if i == 4:\n",
    "        grades[i] = grade + 10\n",
    "    else:\n",
    "        grades[i] = grade + 5\n",
    "print(grades)"
   ],
   "outputs": [
    {
     "name": "stdout",
     "output_type": "stream",
     "text": [
      "[93, 97, 83, 70, 60, 99]\n"
     ]
    }
   ],
   "execution_count": 16
  },
  {
   "cell_type": "code",
   "id": "cd080518-e3da-4460-806a-9cff1d0bd3d9",
   "metadata": {
    "ExecuteTime": {
     "end_time": "2025-01-20T23:35:09.540194Z",
     "start_time": "2025-01-20T23:35:09.527547Z"
    }
   },
   "source": [
    "grades = [93, 97, 83, 70, 60, 99]\n",
    "for grade in grades:\n",
    "    if grade < 2:\n",
    "        continue\n",
    "    for i in range(2, grade):\n",
    "        if grade % i == 0:\n",
    "            print(grade,\"is not prime value\")\n",
    "        else:\n",
    "            print(grade,\"is prime value\")"
   ],
   "outputs": [
    {
     "name": "stdout",
     "output_type": "stream",
     "text": [
      "93 is prime value\n",
      "93 is not prime value\n",
      "93 is prime value\n",
      "93 is prime value\n",
      "93 is prime value\n",
      "93 is prime value\n",
      "93 is prime value\n",
      "93 is prime value\n",
      "93 is prime value\n",
      "93 is prime value\n",
      "93 is prime value\n",
      "93 is prime value\n",
      "93 is prime value\n",
      "93 is prime value\n",
      "93 is prime value\n",
      "93 is prime value\n",
      "93 is prime value\n",
      "93 is prime value\n",
      "93 is prime value\n",
      "93 is prime value\n",
      "93 is prime value\n",
      "93 is prime value\n",
      "93 is prime value\n",
      "93 is prime value\n",
      "93 is prime value\n",
      "93 is prime value\n",
      "93 is prime value\n",
      "93 is prime value\n",
      "93 is prime value\n",
      "93 is not prime value\n",
      "93 is prime value\n",
      "93 is prime value\n",
      "93 is prime value\n",
      "93 is prime value\n",
      "93 is prime value\n",
      "93 is prime value\n",
      "93 is prime value\n",
      "93 is prime value\n",
      "93 is prime value\n",
      "93 is prime value\n",
      "93 is prime value\n",
      "93 is prime value\n",
      "93 is prime value\n",
      "93 is prime value\n",
      "93 is prime value\n",
      "93 is prime value\n",
      "93 is prime value\n",
      "93 is prime value\n",
      "93 is prime value\n",
      "93 is prime value\n",
      "93 is prime value\n",
      "93 is prime value\n",
      "93 is prime value\n",
      "93 is prime value\n",
      "93 is prime value\n",
      "93 is prime value\n",
      "93 is prime value\n",
      "93 is prime value\n",
      "93 is prime value\n",
      "93 is prime value\n",
      "93 is prime value\n",
      "93 is prime value\n",
      "93 is prime value\n",
      "93 is prime value\n",
      "93 is prime value\n",
      "93 is prime value\n",
      "93 is prime value\n",
      "93 is prime value\n",
      "93 is prime value\n",
      "93 is prime value\n",
      "93 is prime value\n",
      "93 is prime value\n",
      "93 is prime value\n",
      "93 is prime value\n",
      "93 is prime value\n",
      "93 is prime value\n",
      "93 is prime value\n",
      "93 is prime value\n",
      "93 is prime value\n",
      "93 is prime value\n",
      "93 is prime value\n",
      "93 is prime value\n",
      "93 is prime value\n",
      "93 is prime value\n",
      "93 is prime value\n",
      "93 is prime value\n",
      "93 is prime value\n",
      "93 is prime value\n",
      "93 is prime value\n",
      "93 is prime value\n",
      "93 is prime value\n",
      "97 is prime value\n",
      "97 is prime value\n",
      "97 is prime value\n",
      "97 is prime value\n",
      "97 is prime value\n",
      "97 is prime value\n",
      "97 is prime value\n",
      "97 is prime value\n",
      "97 is prime value\n",
      "97 is prime value\n",
      "97 is prime value\n",
      "97 is prime value\n",
      "97 is prime value\n",
      "97 is prime value\n",
      "97 is prime value\n",
      "97 is prime value\n",
      "97 is prime value\n",
      "97 is prime value\n",
      "97 is prime value\n",
      "97 is prime value\n",
      "97 is prime value\n",
      "97 is prime value\n",
      "97 is prime value\n",
      "97 is prime value\n",
      "97 is prime value\n",
      "97 is prime value\n",
      "97 is prime value\n",
      "97 is prime value\n",
      "97 is prime value\n",
      "97 is prime value\n",
      "97 is prime value\n",
      "97 is prime value\n",
      "97 is prime value\n",
      "97 is prime value\n",
      "97 is prime value\n",
      "97 is prime value\n",
      "97 is prime value\n",
      "97 is prime value\n",
      "97 is prime value\n",
      "97 is prime value\n",
      "97 is prime value\n",
      "97 is prime value\n",
      "97 is prime value\n",
      "97 is prime value\n",
      "97 is prime value\n",
      "97 is prime value\n",
      "97 is prime value\n",
      "97 is prime value\n",
      "97 is prime value\n",
      "97 is prime value\n",
      "97 is prime value\n",
      "97 is prime value\n",
      "97 is prime value\n",
      "97 is prime value\n",
      "97 is prime value\n",
      "97 is prime value\n",
      "97 is prime value\n",
      "97 is prime value\n",
      "97 is prime value\n",
      "97 is prime value\n",
      "97 is prime value\n",
      "97 is prime value\n",
      "97 is prime value\n",
      "97 is prime value\n",
      "97 is prime value\n",
      "97 is prime value\n",
      "97 is prime value\n",
      "97 is prime value\n",
      "97 is prime value\n",
      "97 is prime value\n",
      "97 is prime value\n",
      "97 is prime value\n",
      "97 is prime value\n",
      "97 is prime value\n",
      "97 is prime value\n",
      "97 is prime value\n",
      "97 is prime value\n",
      "97 is prime value\n",
      "97 is prime value\n",
      "97 is prime value\n",
      "97 is prime value\n",
      "97 is prime value\n",
      "97 is prime value\n",
      "97 is prime value\n",
      "97 is prime value\n",
      "97 is prime value\n",
      "97 is prime value\n",
      "97 is prime value\n",
      "97 is prime value\n",
      "97 is prime value\n",
      "97 is prime value\n",
      "97 is prime value\n",
      "97 is prime value\n",
      "97 is prime value\n",
      "97 is prime value\n",
      "83 is prime value\n",
      "83 is prime value\n",
      "83 is prime value\n",
      "83 is prime value\n",
      "83 is prime value\n",
      "83 is prime value\n",
      "83 is prime value\n",
      "83 is prime value\n",
      "83 is prime value\n",
      "83 is prime value\n",
      "83 is prime value\n",
      "83 is prime value\n",
      "83 is prime value\n",
      "83 is prime value\n",
      "83 is prime value\n",
      "83 is prime value\n",
      "83 is prime value\n",
      "83 is prime value\n",
      "83 is prime value\n",
      "83 is prime value\n",
      "83 is prime value\n",
      "83 is prime value\n",
      "83 is prime value\n",
      "83 is prime value\n",
      "83 is prime value\n",
      "83 is prime value\n",
      "83 is prime value\n",
      "83 is prime value\n",
      "83 is prime value\n",
      "83 is prime value\n",
      "83 is prime value\n",
      "83 is prime value\n",
      "83 is prime value\n",
      "83 is prime value\n",
      "83 is prime value\n",
      "83 is prime value\n",
      "83 is prime value\n",
      "83 is prime value\n",
      "83 is prime value\n",
      "83 is prime value\n",
      "83 is prime value\n",
      "83 is prime value\n",
      "83 is prime value\n",
      "83 is prime value\n",
      "83 is prime value\n",
      "83 is prime value\n",
      "83 is prime value\n",
      "83 is prime value\n",
      "83 is prime value\n",
      "83 is prime value\n",
      "83 is prime value\n",
      "83 is prime value\n",
      "83 is prime value\n",
      "83 is prime value\n",
      "83 is prime value\n",
      "83 is prime value\n",
      "83 is prime value\n",
      "83 is prime value\n",
      "83 is prime value\n",
      "83 is prime value\n",
      "83 is prime value\n",
      "83 is prime value\n",
      "83 is prime value\n",
      "83 is prime value\n",
      "83 is prime value\n",
      "83 is prime value\n",
      "83 is prime value\n",
      "83 is prime value\n",
      "83 is prime value\n",
      "83 is prime value\n",
      "83 is prime value\n",
      "83 is prime value\n",
      "83 is prime value\n",
      "83 is prime value\n",
      "83 is prime value\n",
      "83 is prime value\n",
      "83 is prime value\n",
      "83 is prime value\n",
      "83 is prime value\n",
      "83 is prime value\n",
      "83 is prime value\n",
      "70 is not prime value\n",
      "70 is prime value\n",
      "70 is prime value\n",
      "70 is not prime value\n",
      "70 is prime value\n",
      "70 is not prime value\n",
      "70 is prime value\n",
      "70 is prime value\n",
      "70 is not prime value\n",
      "70 is prime value\n",
      "70 is prime value\n",
      "70 is prime value\n",
      "70 is not prime value\n",
      "70 is prime value\n",
      "70 is prime value\n",
      "70 is prime value\n",
      "70 is prime value\n",
      "70 is prime value\n",
      "70 is prime value\n",
      "70 is prime value\n",
      "70 is prime value\n",
      "70 is prime value\n",
      "70 is prime value\n",
      "70 is prime value\n",
      "70 is prime value\n",
      "70 is prime value\n",
      "70 is prime value\n",
      "70 is prime value\n",
      "70 is prime value\n",
      "70 is prime value\n",
      "70 is prime value\n",
      "70 is prime value\n",
      "70 is prime value\n",
      "70 is not prime value\n",
      "70 is prime value\n",
      "70 is prime value\n",
      "70 is prime value\n",
      "70 is prime value\n",
      "70 is prime value\n",
      "70 is prime value\n",
      "70 is prime value\n",
      "70 is prime value\n",
      "70 is prime value\n",
      "70 is prime value\n",
      "70 is prime value\n",
      "70 is prime value\n",
      "70 is prime value\n",
      "70 is prime value\n",
      "70 is prime value\n",
      "70 is prime value\n",
      "70 is prime value\n",
      "70 is prime value\n",
      "70 is prime value\n",
      "70 is prime value\n",
      "70 is prime value\n",
      "70 is prime value\n",
      "70 is prime value\n",
      "70 is prime value\n",
      "70 is prime value\n",
      "70 is prime value\n",
      "70 is prime value\n",
      "70 is prime value\n",
      "70 is prime value\n",
      "70 is prime value\n",
      "70 is prime value\n",
      "70 is prime value\n",
      "70 is prime value\n",
      "70 is prime value\n",
      "60 is not prime value\n",
      "60 is not prime value\n",
      "60 is not prime value\n",
      "60 is not prime value\n",
      "60 is not prime value\n",
      "60 is prime value\n",
      "60 is prime value\n",
      "60 is prime value\n",
      "60 is not prime value\n",
      "60 is prime value\n",
      "60 is not prime value\n",
      "60 is prime value\n",
      "60 is prime value\n",
      "60 is not prime value\n",
      "60 is prime value\n",
      "60 is prime value\n",
      "60 is prime value\n",
      "60 is prime value\n",
      "60 is not prime value\n",
      "60 is prime value\n",
      "60 is prime value\n",
      "60 is prime value\n",
      "60 is prime value\n",
      "60 is prime value\n",
      "60 is prime value\n",
      "60 is prime value\n",
      "60 is prime value\n",
      "60 is prime value\n",
      "60 is not prime value\n",
      "60 is prime value\n",
      "60 is prime value\n",
      "60 is prime value\n",
      "60 is prime value\n",
      "60 is prime value\n",
      "60 is prime value\n",
      "60 is prime value\n",
      "60 is prime value\n",
      "60 is prime value\n",
      "60 is prime value\n",
      "60 is prime value\n",
      "60 is prime value\n",
      "60 is prime value\n",
      "60 is prime value\n",
      "60 is prime value\n",
      "60 is prime value\n",
      "60 is prime value\n",
      "60 is prime value\n",
      "60 is prime value\n",
      "60 is prime value\n",
      "60 is prime value\n",
      "60 is prime value\n",
      "60 is prime value\n",
      "60 is prime value\n",
      "60 is prime value\n",
      "60 is prime value\n",
      "60 is prime value\n",
      "60 is prime value\n",
      "60 is prime value\n",
      "99 is prime value\n",
      "99 is not prime value\n",
      "99 is prime value\n",
      "99 is prime value\n",
      "99 is prime value\n",
      "99 is prime value\n",
      "99 is prime value\n",
      "99 is not prime value\n",
      "99 is prime value\n",
      "99 is not prime value\n",
      "99 is prime value\n",
      "99 is prime value\n",
      "99 is prime value\n",
      "99 is prime value\n",
      "99 is prime value\n",
      "99 is prime value\n",
      "99 is prime value\n",
      "99 is prime value\n",
      "99 is prime value\n",
      "99 is prime value\n",
      "99 is prime value\n",
      "99 is prime value\n",
      "99 is prime value\n",
      "99 is prime value\n",
      "99 is prime value\n",
      "99 is prime value\n",
      "99 is prime value\n",
      "99 is prime value\n",
      "99 is prime value\n",
      "99 is prime value\n",
      "99 is prime value\n",
      "99 is not prime value\n",
      "99 is prime value\n",
      "99 is prime value\n",
      "99 is prime value\n",
      "99 is prime value\n",
      "99 is prime value\n",
      "99 is prime value\n",
      "99 is prime value\n",
      "99 is prime value\n",
      "99 is prime value\n",
      "99 is prime value\n",
      "99 is prime value\n",
      "99 is prime value\n",
      "99 is prime value\n",
      "99 is prime value\n",
      "99 is prime value\n",
      "99 is prime value\n",
      "99 is prime value\n",
      "99 is prime value\n",
      "99 is prime value\n",
      "99 is prime value\n",
      "99 is prime value\n",
      "99 is prime value\n",
      "99 is prime value\n",
      "99 is prime value\n",
      "99 is prime value\n",
      "99 is prime value\n",
      "99 is prime value\n",
      "99 is prime value\n",
      "99 is prime value\n",
      "99 is prime value\n",
      "99 is prime value\n",
      "99 is prime value\n",
      "99 is prime value\n",
      "99 is prime value\n",
      "99 is prime value\n",
      "99 is prime value\n",
      "99 is prime value\n",
      "99 is prime value\n",
      "99 is prime value\n",
      "99 is prime value\n",
      "99 is prime value\n",
      "99 is prime value\n",
      "99 is prime value\n",
      "99 is prime value\n",
      "99 is prime value\n",
      "99 is prime value\n",
      "99 is prime value\n",
      "99 is prime value\n",
      "99 is prime value\n",
      "99 is prime value\n",
      "99 is prime value\n",
      "99 is prime value\n",
      "99 is prime value\n",
      "99 is prime value\n",
      "99 is prime value\n",
      "99 is prime value\n",
      "99 is prime value\n",
      "99 is prime value\n",
      "99 is prime value\n",
      "99 is prime value\n",
      "99 is prime value\n",
      "99 is prime value\n",
      "99 is prime value\n",
      "99 is prime value\n",
      "99 is prime value\n"
     ]
    }
   ],
   "execution_count": 39
  },
  {
   "cell_type": "code",
   "id": "e7708aba-98ac-462f-ad9d-66472e54b252",
   "metadata": {
    "ExecuteTime": {
     "end_time": "2025-01-20T23:36:52.390787Z",
     "start_time": "2025-01-20T23:36:52.383782Z"
    }
   },
   "source": [
    "grades = [88, 92, 78, 65, 50, 94, 3]\n",
    "for grade in grades:\n",
    "    if grade < 2:\n",
    "        continue\n",
    "    for i in range(2, grade):\n",
    "        if grade % i == 0:\n",
    "            # print(grade,\"is not prime value\")\n",
    "            break\n",
    "    else:\n",
    "        print(grade,\"is prime value\")"
   ],
   "outputs": [
    {
     "name": "stdout",
     "output_type": "stream",
     "text": [
      "3 is prime value\n"
     ]
    }
   ],
   "execution_count": 45
  },
  {
   "metadata": {
    "ExecuteTime": {
     "end_time": "2025-01-20T23:37:42.930089Z",
     "start_time": "2025-01-20T23:37:42.917122Z"
    }
   },
   "cell_type": "code",
   "source": [
    "def is_prime(n):\n",
    "    if n <= 1:\n",
    "        return False  # 小于等于1的数字不是质数\n",
    "    for i in range(2, int(n ** 0.5) + 1):  # 检查是否有从2到sqrt(n)的因子\n",
    "        if n % i == 0:\n",
    "            return False\n",
    "    return True\n",
    "\n",
    "# 使用列表推导式筛选质数\n",
    "prime_grades = [grade for grade in grades if is_prime(grade)]\n",
    "\n",
    "prime_grades"
   ],
   "id": "a0fb4e734182f9cd",
   "outputs": [
    {
     "data": {
      "text/plain": [
       "[3]"
      ]
     },
     "execution_count": 46,
     "metadata": {},
     "output_type": "execute_result"
    }
   ],
   "execution_count": 46
  },
  {
   "cell_type": "code",
   "id": "d069230f-2c5d-4c16-bbf9-576ffa3f7031",
   "metadata": {
    "ExecuteTime": {
     "end_time": "2025-01-20T22:14:40.598724Z",
     "start_time": "2025-01-20T22:14:40.590231Z"
    }
   },
   "source": [
    "# filter out elements depend on their index: \n",
    "# use list comprehension and enumerate() to get elements with even index\n",
    "data = [100, 200, 300, 400, 500]\n",
    "even_index = [item for index, item in enumerate(data) if index % 2 == 0]\n",
    "print(even_index)"
   ],
   "outputs": [
    {
     "name": "stdout",
     "output_type": "stream",
     "text": [
      "[100, 300, 500]\n"
     ]
    }
   ],
   "execution_count": 8
  },
  {
   "cell_type": "code",
   "execution_count": 36,
   "id": "19838113-b7ba-4901-a967-15542a582722",
   "metadata": {},
   "outputs": [
    {
     "name": "stdout",
     "output_type": "stream",
     "text": [
      "[100, 300, 500]\n"
     ]
    }
   ],
   "source": []
  },
  {
   "cell_type": "code",
   "execution_count": null,
   "id": "d7fe199c-57e3-4ece-a93a-3672f2324e12",
   "metadata": {},
   "outputs": [],
   "source": []
  },
  {
   "cell_type": "code",
   "id": "ebdc579d-5829-4204-9814-253753ea6766",
   "metadata": {
    "ExecuteTime": {
     "end_time": "2025-01-20T22:23:04.375914Z",
     "start_time": "2025-01-20T22:23:04.369929Z"
    }
   },
   "source": [
    "# create a dictionary from lists using zip()\n",
    "keys = ['name', 'age', 'grade']\n",
    "values = ['Alice', 25, 'A']\n",
    "result1 = zip(keys, values)\n",
    "print(result1)\n",
    "result2 = dict(zip(keys, values))\n",
    "print(result2)\n",
    "result3 = {A: value for A, value in zip(keys, values)}\n",
    "print(result3)"
   ],
   "outputs": [
    {
     "name": "stdout",
     "output_type": "stream",
     "text": [
      "<zip object at 0x000001E8A62F7480>\n",
      "{'name': 'Alice', 'age': 25, 'grade': 'A'}\n",
      "{'name': 'Alice', 'age': 25, 'grade': 'A'}\n"
     ]
    }
   ],
   "execution_count": 15
  },
  {
   "cell_type": "code",
   "execution_count": 39,
   "id": "da23c662-0f96-4cd5-957d-736da08cc28e",
   "metadata": {},
   "outputs": [
    {
     "name": "stdout",
     "output_type": "stream",
     "text": [
      "{'name': 'Alice', 'age': 25, 'grade': 'A'}\n"
     ]
    }
   ],
   "source": []
  },
  {
   "cell_type": "code",
   "execution_count": null,
   "id": "26fd8ac3-0074-4d4b-a78c-aad59a418b38",
   "metadata": {},
   "outputs": [],
   "source": []
  },
  {
   "cell_type": "code",
   "id": "96eabba4-1b73-40dd-80ad-de0f45bb4c81",
   "metadata": {
    "ExecuteTime": {
     "end_time": "2025-01-20T22:45:47.537300Z",
     "start_time": "2025-01-20T22:45:47.530195Z"
    }
   },
   "source": [
    "# sort the dictionary based on the ages using lambda\n",
    "students = [\n",
    "    {'name': \"John\", 'grade': \"A\", 'age': 20}, \n",
    "    {'name': \"Jane\", 'grade': \"B\", 'age': 21}, \n",
    "    {'name': \"Joss\", 'grade': \"A+\", 'age': 19}, \n",
    "    {'name': \"Jack\", 'grade': \"A-\", 'age': 16}, \n",
    "    {'name': \"Dave\", 'grade': \"C\", 'age': 25}, \n",
    "]\n",
    "result = sorted(students, key=lambda student: student['age'])\n",
    "print(result)"
   ],
   "outputs": [
    {
     "name": "stdout",
     "output_type": "stream",
     "text": [
      "[{'name': 'Jack', 'grade': 'A-', 'age': 16}, {'name': 'Joss', 'grade': 'A+', 'age': 19}, {'name': 'John', 'grade': 'A', 'age': 20}, {'name': 'Jane', 'grade': 'B', 'age': 21}, {'name': 'Dave', 'grade': 'C', 'age': 25}]\n"
     ]
    }
   ],
   "execution_count": 24
  },
  {
   "cell_type": "code",
   "execution_count": null,
   "id": "5fb3152c-ae30-4a0b-bd60-df57a7ee1d8f",
   "metadata": {},
   "outputs": [],
   "source": []
  },
  {
   "cell_type": "code",
   "id": "1332bf19-f03a-4c5b-ac2f-c1fa58c54767",
   "metadata": {
    "ExecuteTime": {
     "end_time": "2025-01-20T22:50:08.177768Z",
     "start_time": "2025-01-20T22:50:08.165951Z"
    }
   },
   "source": [
    "# Sort by age, then by salary if ages are the same\n",
    "# use lambda\n",
    "employees = [\n",
    "    {'name': 'Alice', 'age': 30, 'salary': 80000},\n",
    "    {'name': 'Bob', 'age': 25, 'salary': 50000},\n",
    "    {'name': 'Charlie', 'age': 35, 'salary': 120000},\n",
    "]\n",
    "result = sorted(employees, key=lambda employee: (employee['age'], employee['salary']), reverse=True)\n",
    "print(result)"
   ],
   "outputs": [
    {
     "name": "stdout",
     "output_type": "stream",
     "text": [
      "[{'name': 'Charlie', 'age': 35, 'salary': 120000}, {'name': 'Alice', 'age': 30, 'salary': 80000}, {'name': 'Bob', 'age': 25, 'salary': 50000}]\n"
     ]
    }
   ],
   "execution_count": 27
  },
  {
   "cell_type": "code",
   "execution_count": 44,
   "id": "6e99f536-cdd0-4e60-b846-7bb05c41dd6a",
   "metadata": {},
   "outputs": [
    {
     "name": "stdout",
     "output_type": "stream",
     "text": [
      "[{'name': 'Bob', 'age': 25, 'salary': 50000}, {'name': 'Alice', 'age': 30, 'salary': 80000}, {'name': 'Charlie', 'age': 35, 'salary': 120000}]\n"
     ]
    }
   ],
   "source": []
  },
  {
   "cell_type": "code",
   "execution_count": null,
   "id": "dac9b074-5e9a-41f3-bee9-b6d9857e798c",
   "metadata": {},
   "outputs": [],
   "source": []
  },
  {
   "cell_type": "code",
   "execution_count": 45,
   "id": "ad414ac1-a032-4d8e-a8ae-0d8180ffbeb6",
   "metadata": {},
   "outputs": [],
   "source": [
    "# Generators are highly useful in data-heavy applications:\n",
    "\n",
    "# Reading Large Files: Use generators to read large files line by line without loading the entire file into memory.\n",
    "# Data Streaming: Stream data entries for real-time data processing.\n",
    "# Large Calculations: Break down massive calculations into smaller, more manageable chunks."
   ]
  },
  {
   "cell_type": "code",
   "execution_count": null,
   "id": "ed9e15c4-fb82-487b-a20c-66dd903b925c",
   "metadata": {},
   "outputs": [],
   "source": []
  },
  {
   "cell_type": "code",
   "id": "d82eb6fc-95d7-4f91-b5e3-deef3f5dece6",
   "metadata": {
    "ExecuteTime": {
     "end_time": "2025-01-20T23:53:23.907888Z",
     "start_time": "2025-01-20T23:53:23.896402Z"
    }
   },
   "source": [
    "# Data frame - example\n",
    "import pandas as pd\n",
    "data = {\n",
    "  \"calories\": [420, 380, 390],\n",
    "  \"duration\": [50, 40, 45]\n",
    "}\n",
    "#load data into a DataFrame object:\n",
    "df = pd.DataFrame(data)\n",
    "print(df)\n",
    "# Print data in the second row and column in the data frame using loc() or iloc()\n",
    "value = df.iloc[1,1]\n",
    "print(\"The second row and column is \", value)\n",
    "\n",
    "value2 = df.loc[1, \"duration\"]\n",
    "print(\"The second row and column is \", value2)"
   ],
   "outputs": [
    {
     "name": "stdout",
     "output_type": "stream",
     "text": [
      "   calories  duration\n",
      "0       420        50\n",
      "1       380        40\n",
      "2       390        45\n",
      "The second row and column is  40\n",
      "The second row and column is  40\n"
     ]
    }
   ],
   "execution_count": 59
  },
  {
   "cell_type": "code",
   "execution_count": null,
   "id": "e65d69a7-a698-4bd6-909d-12c9336ced5e",
   "metadata": {},
   "outputs": [],
   "source": []
  },
  {
   "cell_type": "code",
   "execution_count": null,
   "id": "11256002-68c2-4954-b14f-6822574718f1",
   "metadata": {},
   "outputs": [],
   "source": []
  },
  {
   "cell_type": "code",
   "execution_count": null,
   "id": "34203ad5-da1c-4742-bf73-b611f7e74476",
   "metadata": {},
   "outputs": [],
   "source": []
  }
 ],
 "metadata": {
  "kernelspec": {
   "display_name": "Python 3 (ipykernel)",
   "language": "python",
   "name": "python3"
  },
  "language_info": {
   "codemirror_mode": {
    "name": "ipython",
    "version": 3
   },
   "file_extension": ".py",
   "mimetype": "text/x-python",
   "name": "python",
   "nbconvert_exporter": "python",
   "pygments_lexer": "ipython3",
   "version": "3.11.9"
  }
 },
 "nbformat": 4,
 "nbformat_minor": 5
}
